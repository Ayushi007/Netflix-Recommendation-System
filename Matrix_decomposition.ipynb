{
 "cells": [
  {
   "cell_type": "code",
   "execution_count": null,
   "metadata": {
    "colab": {
     "base_uri": "https://localhost:8080/",
     "height": 121
    },
    "colab_type": "code",
    "id": "upYVSvTYQ5lZ",
    "outputId": "5cbf149b-e766-412b-8482-1c274909cadf"
   },
   "outputs": [],
   "source": [
    "from google.colab import drive\n",
    "drive.mount('/content/drive')"
   ]
  },
  {
   "cell_type": "code",
   "execution_count": null,
   "metadata": {
    "colab": {},
    "colab_type": "code",
    "id": "UoHiC3hnP9EF"
   },
   "outputs": [],
   "source": [
    "%matplotlib inline\n",
    "import io, os, sys, types\n",
    "from IPython import get_ipython\n",
    "from nbformat import read\n",
    "from IPython.core.interactiveshell import InteractiveShell\n",
    "\n",
    "import matplotlib\n",
    "import matplotlib.pyplot as plt\n",
    "import numpy as np\n",
    "import pandas as pd\n",
    "from scipy.sparse.linalg import svds\n",
    "from __future__ import print_function"
   ]
  },
  {
   "cell_type": "code",
   "execution_count": null,
   "metadata": {
    "colab": {},
    "colab_type": "code",
    "id": "uhQOJZLvP9EK"
   },
   "outputs": [],
   "source": [
    "class MF():\n",
    "    \n",
    "    def __init__(self, R, K, alpha, beta, iterations):\n",
    "        \"\"\"\n",
    "        Perform matrix factorization to predict empty\n",
    "        entries in a matrix.\n",
    "        \n",
    "        Arguments\n",
    "        - R (ndarray)   : user-item rating matrix\n",
    "        - K (int)       : number of latent dimensions\n",
    "        - alpha (float) : learning rate\n",
    "        - beta (float)  : regularization parameter\n",
    "        \"\"\"\n",
    "        \n",
    "        self.R = R\n",
    "        self.num_users, self.num_items = R.shape\n",
    "        self.K = K\n",
    "        self.alpha = alpha\n",
    "        self.beta = beta\n",
    "        self.iterations = iterations\n",
    "\n",
    "    def train(self):\n",
    "        # Initialize user and item latent feature matrice\n",
    "        self.P = np.random.normal(scale=1./self.K, size=(self.num_users, self.K))\n",
    "        self.Q = np.random.normal(scale=1./self.K, size=(self.num_items, self.K))\n",
    "        \n",
    "        # Initialize the biases\n",
    "        self.b_u = np.zeros(self.num_users)\n",
    "        self.b_i = np.zeros(self.num_items)\n",
    "        self.b = np.mean(self.R[np.where(self.R != 0)])\n",
    "        \n",
    "        # Create a list of training samples\n",
    "        self.samples = [\n",
    "            (i, j, self.R[i, j])\n",
    "            for i in range(self.num_users)\n",
    "            for j in range(self.num_items)\n",
    "            if self.R[i, j] > 0\n",
    "        ]\n",
    "        \n",
    "        # Perform stochastic gradient descent for number of iterations\n",
    "        training_process = []\n",
    "        for i in range(self.iterations):\n",
    "            np.random.shuffle(self.samples)\n",
    "            self.sgd()\n",
    "            mse = self.mse()\n",
    "            training_process.append((i, mse))\n",
    "            #if (i+1) % 10 == 0:\n",
    "            print(\"Iteration: %d ; error = %.4f\" % (i+1, mse))\n",
    "        \n",
    "        return training_process\n",
    "    \n",
    "        \n",
    "\n",
    "    def mse(self):\n",
    "        \"\"\"\n",
    "        A function to compute the total mean square error\n",
    "        \"\"\"\n",
    "        xs, ys = self.R.nonzero()\n",
    "        predicted = self.full_matrix()\n",
    "        error = 0\n",
    "        for x, y in zip(xs, ys):\n",
    "            error += pow(self.R[x, y] - predicted[x, y], 2)\n",
    "        return np.sqrt(error)\n",
    "\n",
    "    def sgd(self):\n",
    "        \"\"\"\n",
    "        Perform stochastic graident descent\n",
    "        \"\"\"\n",
    "        for i, j, r in self.samples:\n",
    "            # Computer prediction and error\n",
    "            prediction = self.get_rating(i, j)\n",
    "            e = (r - prediction)\n",
    "            \n",
    "            # Update biases\n",
    "            self.b_u[i] += self.alpha * (e - self.beta * self.b_u[i])\n",
    "            self.b_i[j] += self.alpha * (e - self.beta * self.b_i[j])\n",
    "            \n",
    "            # Create copy of row of P since we need to update it but use older values for update on Q\n",
    "            P_i = self.P[i, :][:]\n",
    "            # Update user and item latent feature matrices\n",
    "            self.P[i, :] += self.alpha * (e * self.Q[j, :] - self.beta * self.P[i,:])\n",
    "            self.Q[j, :] += self.alpha * (e * P_i - self.beta * self.Q[j,:])\n",
    "            #print(self.Q[j, :])\n",
    "\n",
    "    def get_rating(self, i, j):\n",
    "        \"\"\"\n",
    "        Get the predicted rating of user i and item j\n",
    "        \"\"\"\n",
    "        prediction = self.b + self.b_u[i] + self.b_i[j] + self.P[i, :].dot(self.Q[j, :].T)\n",
    "        return prediction\n",
    "    \n",
    "    def full_matrix(self):\n",
    "        \"\"\"\n",
    "        Computer the full matrix using the resultant biases, P and Q\n",
    "        \"\"\"\n",
    "        return mf.b + mf.b_u[:,np.newaxis] + mf.b_i[np.newaxis:,] + mf.P.dot(mf.Q.T)"
   ]
  },
  {
   "cell_type": "code",
   "execution_count": null,
   "metadata": {
    "colab": {},
    "colab_type": "code",
    "id": "-SLmbO5UP9EO",
    "scrolled": true
   },
   "outputs": [],
   "source": [
    "data = pd.read_csv('path/train.csv') # path= path to file \n"
   ]
  },
  {
   "cell_type": "code",
   "execution_count": null,
   "metadata": {
    "colab": {
     "base_uri": "https://localhost:8080/",
     "height": 34
    },
    "colab_type": "code",
    "id": "pk7En8B5TxHY",
    "outputId": "246deb03-5b54-4f10-ce43-68a672215539"
   },
   "outputs": [],
   "source": [
    "result=pd.DataFrame(data)\n",
    "\n",
    "#separting out train and test data\n",
    "train=result[200001:][:] \n",
    "test =result[:200000][:]\n",
    "teste =test.copy()\n",
    "\n",
    "test1=test.pivot_table(index='customer-id', columns='movie-id', values='rating').fillna(0)\n",
    "T=np.array(test1)\n",
    "#print(T.shape)\n",
    "test['rating'] = 0\n",
    "frames=[train, test]\n",
    "train1=pd.concat(frames)\n"
   ]
  },
  {
   "cell_type": "code",
   "execution_count": null,
   "metadata": {
    "colab": {
     "base_uri": "https://localhost:8080/",
     "height": 50
    },
    "colab_type": "code",
    "id": "iu79nIh5P9Eb",
    "outputId": "d95df224-b9fa-4287-b02f-4e8274dcb0ec"
   },
   "outputs": [],
   "source": [
    "print(train1.shape)\n",
    "#print(train1)\n",
    "final=train1.pivot_table(index='customer-id', columns='movie-id', values='rating').fillna(0)\n",
    "final1=final.copy()\n",
    "R = np.array(final)\n",
    "#print(R)\n",
    "#print(R.shape)\n"
   ]
  },
  {
   "cell_type": "code",
   "execution_count": null,
   "metadata": {},
   "outputs": [],
   "source": [
    "mf = MF(R, K=4, alpha=0.005, beta=0.001, iterations=50)\n",
    "training_process = mf.train()\n",
    "R=mf.full_matrix()\n",
    "for i in range(len(R)):\n",
    "    for j in range(len(R[i])):\n",
    "        if R[i][j]>5 :\n",
    "            R[i][j] = 5\n",
    "        if R[i][j]<0:\n",
    "            R[i][j]=0\n",
    "final2=pd.DataFrame(R, index=final1.index, columns=final1.columns)\n",
    "\n",
    "error =0\n",
    "entries=0\n",
    "i=0\n",
    "for index, row in teste.iterrows():\n",
    "    movie=row['movie-id']\n",
    "    cust=row['customer-id']\n",
    "    rat=row['rating']\n",
    "    error+=pow(rat-final2.loc[cust, movie], 2)\n",
    "    entries+=1\n",
    "error/=entries\n",
    "#error if predicting using only Matrix decomposition\n",
    "print(np.sqrt(error))"
   ]
  },
  {
   "cell_type": "code",
   "execution_count": null,
   "metadata": {
    "colab": {
     "base_uri": "https://localhost:8080/",
     "height": 6874
    },
    "colab_type": "code",
    "id": "9leifK4GmTKY",
    "outputId": "6c380c29-b09d-44ad-c7ac-2f50b31c936f"
   },
   "outputs": [],
   "source": [
    "#sgd 0.941321878865274\n",
    "#k=5 0.9414899741532761\n",
    "final3=final2.copy()\n",
    "movies=final3.columns.values\n",
    "users=final3.index.values\n",
    "\n",
    "frame_kmeans=pd.read_csv('path/metadata.csv') # file saved after k-means clustering to get meaningful clusters of movies\n",
    "original_title = pd.read_csv('path/title_original.csv')\n",
    "\n",
    "title=pd.merge(frame_kmeans, original_title, how='right', on=['title'])\n",
    "title.to_csv('drive/Team Drives/ECS 271/check.csv')\n",
    "title.head(10)\n",
    "\n",
    "unique_cluster=sorted(frame_kmeans.cluster.unique())\n",
    "\n",
    "movie_cluster={}\n",
    "count=0\n",
    "\n",
    "for item in unique_cluster:\n",
    "    cluster_titles=title.loc[(title['cluster']==item) & (title['movie_id'].isin(movies))]['movie_id'].values.tolist()\n",
    "    key=cluster_titles[0]\n",
    "    value=set(cluster_titles[:])\n",
    "    movie_cluster.update({key: value})\n",
    "    print(key, value)\n",
    "    print()\n",
    "    count+=1"
   ]
  },
  {
   "cell_type": "code",
   "execution_count": null,
   "metadata": {
    "colab": {
     "base_uri": "https://localhost:8080/",
     "height": 3326
    },
    "colab_type": "code",
    "id": "8A5TNwJjeXsE",
    "outputId": "d909724a-7809-4fab-f568-2b0a9d83e192"
   },
   "outputs": [],
   "source": [
    "count=0\n",
    "for key, value in movie_cluster.items():\n",
    "    count+=1\n",
    "    for user in users:\n",
    "        sum=0\n",
    "        for val in value:\n",
    "            sum+=final3.loc[user][val]\n",
    "        avg=sum/len(value)    \n",
    "        for val in value:\n",
    "            final3.loc[user][val]=avg      "
   ]
  },
  {
   "cell_type": "code",
   "execution_count": null,
   "metadata": {
    "colab": {
     "base_uri": "https://localhost:8080/",
     "height": 34
    },
    "colab_type": "code",
    "id": "ZPLSn4E_lBV2",
    "outputId": "112e3062-25d5-41c5-ffb6-c4c360226fe8"
   },
   "outputs": [],
   "source": [
    "error1=0\n",
    "entries1=0\n",
    "j=0\n",
    "for index, row in teste.iterrows():\n",
    "    movie=row['movie-id']\n",
    "    cust=row['customer-id']\n",
    "    rat=row['rating']\n",
    "    error1+=pow(rat-final3.loc[cust, movie], 2)\n",
    "    entries1+=1\n",
    "error1/=entries1\n",
    "print(np.sqrt(error1))"
   ]
  }
 ],
 "metadata": {
  "colab": {
   "collapsed_sections": [],
   "name": "Anshi_Matrix Decomposition.ipynb",
   "provenance": [],
   "version": "0.3.2"
  },
  "kernelspec": {
   "display_name": "Python 3",
   "language": "python",
   "name": "python3"
  },
  "language_info": {
   "codemirror_mode": {
    "name": "ipython",
    "version": 3
   },
   "file_extension": ".py",
   "mimetype": "text/x-python",
   "name": "python",
   "nbconvert_exporter": "python",
   "pygments_lexer": "ipython3",
   "version": "3.7.1"
  }
 },
 "nbformat": 4,
 "nbformat_minor": 1
}
